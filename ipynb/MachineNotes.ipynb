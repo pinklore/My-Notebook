{
  "nbformat": 4,
  "nbformat_minor": 0,
  "metadata": {
    "colab": {
      "provenance": [],
      "authorship_tag": "ABX9TyMtLeOB/P5nPNF6o7SW4Ecj",
      "include_colab_link": true
    },
    "kernelspec": {
      "name": "python3",
      "display_name": "Python 3"
    },
    "language_info": {
      "name": "python"
    }
  },
  "cells": [
    {
      "cell_type": "markdown",
      "metadata": {
        "id": "view-in-github",
        "colab_type": "text"
      },
      "source": [
        "<a href=\"https://colab.research.google.com/github/pinklore/My-Notebook/blob/main/ipynb/MachineNotes.ipynb\" target=\"_parent\"><img src=\"https://colab.research.google.com/assets/colab-badge.svg\" alt=\"Open In Colab\"/></a>"
      ]
    },
    {
      "cell_type": "markdown",
      "source": [
        "Traditional Programming into a Single Diagram:\n",
        "\n",
        "<img src=\"https://drive.google.com/uc?export=view&id=1Qt-WyLPuPAR1q-0mBdtRIPnpZQlClgnD\" width=\"600\">"
      ],
      "metadata": {
        "id": "-ZOzl3fcLiSc"
      }
    },
    {
      "cell_type": "markdown",
      "source": [
        "Machine Learning Diagram:\n",
        "\n",
        "<img src=\"https://drive.google.com/uc?export=view&id=14YSTLVPQEzZ8ekEZyHHdJCSWXwaynZHY\" width=\"600\">\n"
      ],
      "metadata": {
        "id": "2-A8tkXll3p5"
      }
    },
    {
      "cell_type": "markdown",
      "source": [],
      "metadata": {
        "id": "nf-nmxCU0Lvj"
      }
    },
    {
      "cell_type": "markdown",
      "source": [
        "\n",
        "\n",
        "\n",
        "<table style=\"width:100%;\">\n",
        "  <tr>\n",
        "    <td style=\"text-align:center; width:50%\">\n",
        "      <img src=\"https://drive.google.com/uc?export=view&id=1Qt-WyLPuPAR1q-0mBdtRIPnpZQlClgnD\"\">\n",
        "      <div>\n",
        "Traditional Programming into a Single Diagram:</div>\n",
        "    </td>\n",
        "    <td style=\"text-align:center; width:50%\">\n",
        "      <img src=\"https://drive.google.com/uc?export=view&id=14YSTLVPQEzZ8ekEZyHHdJCSWXwaynZHY\">\n",
        "      <div>Machine Learning Diagram</div>\n",
        "    </td>\n",
        "  </tr>\n",
        "</table>\n"
      ],
      "metadata": {
        "id": "3zVhzIRm1HBB"
      }
    },
    {
      "cell_type": "markdown",
      "source": [
        "**Training:** The process of creating machine learning models is called training. This is where a computer uses a set of algorithms to learn about inputs and what distinguishes them from each other.\n",
        "\n",
        "**Inference:** Once the model is trained, the process of having it recognize or categorize future inputs is called inference.\n"
      ],
      "metadata": {
        "id": "GBYJFhAyH86_"
      }
    },
    {
      "cell_type": "markdown",
      "source": [
        "Support Needed for Traning Models:\n",
        "\n",
        "A set of APIs for designing the models themselves.\n",
        "\n",
        "\n",
        "With **Tensor Flow** there are 3 main ways to do this:\n",
        "      you can code everything by hand, where you figure out the logic for how a\n",
        "\n",
        "*   You can code everything by hand, where you figure out the logic for how a computer can learn and then implement that in code (not recommended)\n",
        "\n",
        "*   You can use built-in *estimators*, which are already-implemented neural networks that you can customize\n",
        "*   Or you can use Keras, a high-level API that allows you to encapsulate common machine learning paradigms in code.\n",
        "\n",
        "\n",
        "\n"
      ],
      "metadata": {
        "id": "mBR8_mwnLY36"
      }
    },
    {
      "cell_type": "markdown",
      "source": [
        "\n",
        "\n",
        "*   List item\n",
        "*   List item\n",
        "\n"
      ],
      "metadata": {
        "id": "dlffZ97jJWae"
      }
    },
    {
      "cell_type": "markdown",
      "source": [
        "test1\n",
        "test from colab"
      ],
      "metadata": {
        "id": "8HOCi3yVJS10"
      }
    },
    {
      "cell_type": "code",
      "source": [
        "print (\"testing from colab : howdy\")"
      ],
      "metadata": {
        "id": "DOL2r49AdNln",
        "outputId": "1e838f67-db81-4648-cd72-e3261b97d924",
        "colab": {
          "base_uri": "https://localhost:8080/"
        }
      },
      "execution_count": 1,
      "outputs": [
        {
          "output_type": "stream",
          "name": "stdout",
          "text": [
            "testing from colab : howdy\n"
          ]
        }
      ]
    },
    {
      "cell_type": "markdown",
      "source": [
        "BELOW PRINT CODE"
      ],
      "metadata": {
        "id": "n7ubj4QjeLtr"
      }
    }
  ]
}
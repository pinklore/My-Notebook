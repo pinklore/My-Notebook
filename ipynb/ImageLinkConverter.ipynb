{
  "nbformat": 4,
  "nbformat_minor": 0,
  "metadata": {
    "colab": {
      "provenance": [],
      "authorship_tag": "ABX9TyPWP3nzv8Y6KnEW5UH5UTCK",
      "include_colab_link": true
    },
    "kernelspec": {
      "name": "python3",
      "display_name": "Python 3"
    },
    "language_info": {
      "name": "python"
    }
  },
  "cells": [
    {
      "cell_type": "markdown",
      "metadata": {
        "id": "view-in-github",
        "colab_type": "text"
      },
      "source": [
        "<a href=\"https://colab.research.google.com/github/pinklore/My-Notebook/blob/main/ipynb/ImageLinkConverter.ipynb\" target=\"_parent\"><img src=\"https://colab.research.google.com/assets/colab-badge.svg\" alt=\"Open In Colab\"/></a>"
      ]
    },
    {
      "cell_type": "markdown",
      "source": [
        "LINK CONVERTER"
      ],
      "metadata": {
        "id": "gKO7OTpAr0vv"
      }
    },
    {
      "cell_type": "markdown",
      "source": [
        "# **OPTION 1:**"
      ],
      "metadata": {
        "id": "nLZA0CV4spw6"
      }
    },
    {
      "cell_type": "code",
      "source": [
        "import re\n",
        "from IPython.display import HTML, display\n",
        "\n",
        "def to_direct_view(link):\n",
        "    m = re.search(r'/d/([^/]+)/', link) or re.search(r'[?&]id=([^&]+)', link)\n",
        "    if not m:\n",
        "        raise ValueError(\"No file ID found in the link.\")\n",
        "    fid = m.group(1)\n",
        "    return f\"https://drive.google.com/uc?export=view&id={fid}\"\n",
        "\n",
        "# 1) Put your share link here\n",
        "share_link = \"https://drive.google.com/file/d/14YSTLVPQEzZ8ekEZyHHdJCSWXwaynZHY/view?usp=drive_link\"\n",
        "\n",
        "# 2) Convert\n",
        "direct = to_direct_view(share_link)\n",
        "html_snippet = f'<img src=\"{direct}\" width=\"600\">'\n",
        "\n",
        "# 3) Render a copy-friendly UI\n",
        "display(HTML(f\"\"\"\n",
        "<div style=\"font-family:system-ui,Segoe UI,Arial; line-height:1.45; max-width:900px\">\n",
        "  <div><b>Direct link</b></div>\n",
        "  <div><a href=\"{direct}\" target=\"_blank\">{direct}</a></div>\n",
        "\n",
        "  <div style=\"margin-top:10px\"><b>HTML &lt;img&gt; snippet (paste this in a Text cell)</b></div>\n",
        "  <textarea id=\"img_snip\" rows=\"3\" style=\"width:100%; font-family:monospace\">{html_snippet}</textarea>\n",
        "  <button id=\"copy_btn\" style=\"margin-top:6px; padding:6px 10px\"\n",
        "    onclick=\"navigator.clipboard.writeText(document.getElementById('img_snip').value)\n",
        "             .then(()=>{{document.getElementById('copied').textContent='Copied!';}})\n",
        "             .catch(e=>{{document.getElementById('copied').textContent='Copy failed';}})\">\n",
        "    Copy\n",
        "  </button>\n",
        "  <span id=\"copied\" style=\"margin-left:8px; color: #2b7a0b;\"></span>\n",
        "\n",
        "  <div style=\"margin-top:14px\"><b>Preview</b></div>\n",
        "  <div><img src=\"{direct}\" width=\"400\"></div>\n",
        "</div>\n",
        "\"\"\"))\n"
      ],
      "metadata": {
        "colab": {
          "base_uri": "https://localhost:8080/",
          "height": 258
        },
        "id": "OLJEBlnArOqg",
        "outputId": "213a91b6-7c56-4de1-96a5-8df534a1749e"
      },
      "execution_count": null,
      "outputs": [
        {
          "output_type": "display_data",
          "data": {
            "text/plain": [
              "<IPython.core.display.HTML object>"
            ],
            "text/html": [
              "\n",
              "<div style=\"font-family:system-ui,Segoe UI,Arial; line-height:1.45; max-width:900px\">\n",
              "  <div><b>Direct link</b></div>\n",
              "  <div><a href=\"https://drive.google.com/uc?export=view&id=14YSTLVPQEzZ8ekEZyHHdJCSWXwaynZHY\" target=\"_blank\">https://drive.google.com/uc?export=view&id=14YSTLVPQEzZ8ekEZyHHdJCSWXwaynZHY</a></div>\n",
              "\n",
              "  <div style=\"margin-top:10px\"><b>HTML &lt;img&gt; snippet (paste this in a Text cell)</b></div>\n",
              "  <textarea id=\"img_snip\" rows=\"3\" style=\"width:100%; font-family:monospace\"><img src=\"https://drive.google.com/uc?export=view&id=14YSTLVPQEzZ8ekEZyHHdJCSWXwaynZHY\" width=\"600\"></textarea>\n",
              "  <button id=\"copy_btn\" style=\"margin-top:6px; padding:6px 10px\"\n",
              "    onclick=\"navigator.clipboard.writeText(document.getElementById('img_snip').value)\n",
              "             .then(()=>{document.getElementById('copied').textContent='Copied!';})\n",
              "             .catch(e=>{document.getElementById('copied').textContent='Copy failed';})\">\n",
              "    Copy\n",
              "  </button>\n",
              "  <span id=\"copied\" style=\"margin-left:8px; color: #2b7a0b;\"></span>\n",
              "\n",
              "  <div style=\"margin-top:14px\"><b>Preview</b></div>\n",
              "  <div><img src=\"https://drive.google.com/uc?export=view&id=14YSTLVPQEzZ8ekEZyHHdJCSWXwaynZHY\" width=\"400\"></div>\n",
              "</div>\n"
            ]
          },
          "metadata": {}
        }
      ]
    },
    {
      "cell_type": "markdown",
      "source": [
        "**Result from previous cell:**\n",
        "<img src=\"https://drive.google.com/uc?export=view&id=14YSTLVPQEzZ8ekEZyHHdJCSWXwaynZHY\" width=\"600\">"
      ],
      "metadata": {
        "id": "G73vSbRirVDr"
      }
    },
    {
      "cell_type": "markdown",
      "source": [
        "# **OPTION 2 (BETTER OPTION):**"
      ],
      "metadata": {
        "id": "iK7QlbI_silj"
      }
    },
    {
      "cell_type": "code",
      "source": [
        "import re\n",
        "from IPython.display import HTML, display\n",
        "\n",
        "def to_direct_view(link_or_id):\n",
        "    s = link_or_id.strip()\n",
        "    m = (re.search(r'/d/([^/]+)/', s) or\n",
        "         re.search(r'[?&]id=([^&]+)', s) or\n",
        "         re.fullmatch(r'[A-Za-z0-9_-]{20,}', s))\n",
        "    if not m:\n",
        "        raise ValueError(\"No file ID found.\")\n",
        "    fid = m.group(1) if m.lastindex else m.group(0)\n",
        "    return f\"https://drive.google.com/uc?export=view&id={fid}\"\n",
        "\n",
        "raw = input(\"Paste one or more links/IDs separated by commas: \").strip()\n",
        "links = [x.strip() for x in raw.split(\",\") if x.strip()]\n",
        "\n",
        "for i in range(0, len(links)):  # traditional index loop\n",
        "    direct = to_direct_view(links[i])\n",
        "    snippet = f'<img src=\"{direct}\" width=\"600\">'\n",
        "    display(HTML(f\"\"\"\n",
        "    <div style=\"font-family:system-ui,Segoe UI,Arial; line-height:1.45; max-width:900px; margin:4px 0 18px; border-bottom:1px solid #eee; padding-bottom:12px\">\n",
        "      <div>Item {i}</div>\n",
        "      <div><a href=\"{direct}\" target=\"_blank\">{direct}</a></div>\n",
        "\n",
        "      <div style=\"margin-top:8px\">Paste this in a Text cell</div>\n",
        "      <textarea id=\"img_snip_{i}\" rows=\"2\" style=\"width:100%; font-family:monospace\">{snippet}</textarea>\n",
        "      <button style=\"margin-top:6px; padding:6px 10px\"\n",
        "        onclick=\"navigator.clipboard.writeText(document.getElementById('img_snip_{i}').value)\n",
        "                 .then(()=>{{document.getElementById('copied_{i}').textContent='Copied!';}})\n",
        "                 .catch(()=>{{document.getElementById('copied_{i}').textContent='Copy failed';}})\">\n",
        "        Copy\n",
        "      </button>\n",
        "      <span id=\"copied_{i}\" style=\"margin-left:8px; color:#2b7a0b;\"></span>\n",
        "\n",
        "      <div style=\"margin-top:10px\"><img src=\"{direct}\" width=\"420\"></div>\n",
        "    </div>\n",
        "    \"\"\"))\n"
      ],
      "metadata": {
        "colab": {
          "base_uri": "https://localhost:8080/",
          "height": 248
        },
        "id": "pV07A2yssOzE",
        "outputId": "550eca1b-c621-499d-d779-abaac01cf19d"
      },
      "execution_count": null,
      "outputs": [
        {
          "name": "stdout",
          "output_type": "stream",
          "text": [
            "Paste one or more links/IDs separated by commas: https://drive.google.com/file/d/1Qt-WyLPuPAR1q-0mBdtRIPnpZQlClgnD/view?usp=drive_link\n"
          ]
        },
        {
          "output_type": "display_data",
          "data": {
            "text/plain": [
              "<IPython.core.display.HTML object>"
            ],
            "text/html": [
              "\n",
              "    <div style=\"font-family:system-ui,Segoe UI,Arial; line-height:1.45; max-width:900px; margin:4px 0 18px; border-bottom:1px solid #eee; padding-bottom:12px\">\n",
              "      <div>Item 0</div>\n",
              "      <div><a href=\"https://drive.google.com/uc?export=view&id=1Qt-WyLPuPAR1q-0mBdtRIPnpZQlClgnD\" target=\"_blank\">https://drive.google.com/uc?export=view&id=1Qt-WyLPuPAR1q-0mBdtRIPnpZQlClgnD</a></div>\n",
              "\n",
              "      <div style=\"margin-top:8px\">Paste this in a Text cell</div>\n",
              "      <textarea id=\"img_snip_0\" rows=\"2\" style=\"width:100%; font-family:monospace\"><img src=\"https://drive.google.com/uc?export=view&id=1Qt-WyLPuPAR1q-0mBdtRIPnpZQlClgnD\" width=\"600\"></textarea>\n",
              "      <button style=\"margin-top:6px; padding:6px 10px\"\n",
              "        onclick=\"navigator.clipboard.writeText(document.getElementById('img_snip_0').value)\n",
              "                 .then(()=>{document.getElementById('copied_0').textContent='Copied!';})\n",
              "                 .catch(()=>{document.getElementById('copied_0').textContent='Copy failed';})\">\n",
              "        Copy\n",
              "      </button>\n",
              "      <span id=\"copied_0\" style=\"margin-left:8px; color:#2b7a0b;\"></span>\n",
              "\n",
              "      <div style=\"margin-top:10px\"><img src=\"https://drive.google.com/uc?export=view&id=1Qt-WyLPuPAR1q-0mBdtRIPnpZQlClgnD\" width=\"420\"></div>\n",
              "    </div>\n",
              "    "
            ]
          },
          "metadata": {}
        }
      ]
    },
    {
      "cell_type": "markdown",
      "source": [
        "**Result from previous cell:**\n",
        "\n",
        "Enter given link in this box:\n",
        "<img src=\"https://drive.google.com/uc?export=view&id=1Qt-WyLPuPAR1q-0mBdtRIPnpZQlClgnD\" width=\"600\">"
      ],
      "metadata": {
        "id": "rHDGqtK-sfhS"
      }
    },
    {
      "cell_type": "markdown",
      "source": [
        "# **OPTION 3**"
      ],
      "metadata": {
        "id": "wavjytgvtdUn"
      }
    },
    {
      "cell_type": "code",
      "source": [
        "import re, os, html\n",
        "from IPython.display import HTML, display\n",
        "from google.colab import output\n",
        "\n",
        "def to_direct_view(link_or_id):\n",
        "    s = link_or_id.strip()\n",
        "    m = (re.search(r'/d/([^/]+)/', s) or\n",
        "         re.search(r'[?&]id=([^&]+)', s) or\n",
        "         re.fullmatch(r'[A-Za-z0-9_-]{20,}', s))\n",
        "    if not m:\n",
        "        raise ValueError(\"No file ID found.\")\n",
        "    fid = m.group(1) if m.lastindex else m.group(0)\n",
        "    return f\"https://drive.google.com/uc?export=view&id={fid}\"\n",
        "\n",
        "def build_table_html(direct_urls, labels=None, width_px=600, out_path=\"/content/last_img_table.html\"):\n",
        "    if labels is None or len(labels) != len(direct_urls):\n",
        "        labels = [f\"Item {i}\" for i in range(0, len(direct_urls))]\n",
        "    head = f\"\"\"<!DOCTYPE html>\n",
        "<html><head><meta charset=\"utf-8\"><style>\n",
        "  body {{ font-family: system-ui, Segoe UI, Arial, sans-serif; margin: 6px; }}\n",
        "  table {{ border-collapse: collapse; width: 100%; }}\n",
        "  th, td {{ border: 1px solid #ddd; padding: 6px; text-align: left; vertical-align: top; }}\n",
        "  th {{ background: #f6f6f6; }}\n",
        "  img {{ max-width: 100%; height: auto; }}\n",
        "  .wrap {{ max-width: {width_px}px; }}\n",
        "  a {{ word-break: break-all; }}\n",
        "</style></head><body>\n",
        "<table>\n",
        "<thead><tr><th>#</th><th>Label</th><th>Direct link</th><th>Preview</th></tr></thead><tbody>\n",
        "\"\"\"\n",
        "    rows = []\n",
        "    for i in range(0, len(direct_urls)):\n",
        "        url = direct_urls[i]\n",
        "        lab = html.escape(str(labels[i]))\n",
        "        rows.append(f\"\"\"\n",
        "<tr>\n",
        "  <td>{i}</td>\n",
        "  <td>{lab}</td>\n",
        "  <td><a href=\"{url}\" target=\"_blank\">{url}</a></td>\n",
        "  <td class=\"wrap\"><img src=\"{url}\" width=\"{width_px}\"></td>\n",
        "</tr>\n",
        "\"\"\")\n",
        "    tail = \"</tbody></table></body></html>\"\n",
        "    os.makedirs(os.path.dirname(out_path), exist_ok=True)\n",
        "    with open(out_path, \"w\", encoding=\"utf-8\") as f:\n",
        "        f.write(head + \"\".join(rows) + tail)\n",
        "    return out_path\n",
        "\n",
        "def _cb_build_table(links_str, labels_str, width_px):\n",
        "    links = [x.strip() for x in links_str.split(\",\") if x.strip()]\n",
        "    labels = [x.strip() for x in labels_str.split(\",\")] if labels_str.strip() else None\n",
        "    directs = []\n",
        "    for i in range(0, len(links)):\n",
        "        directs.append(to_direct_view(links[i]))\n",
        "    table_path = build_table_html(directs, labels=labels, width_px=width_px, out_path=\"/content/last_img_table.html\")\n",
        "    h = min(240 + 260 * len(directs), 1800)\n",
        "    iframe_html = f'<iframe src=\"/content/last_img_table.html\" width=\"980\" height=\"{h}\" style=\"border:0\"></iframe>'\n",
        "    return iframe_html\n",
        "\n",
        "\n",
        "\n",
        "output.register_callback('build_table_cb', _cb_build_table)\n",
        "\n",
        "display(HTML(\"\"\"\n",
        "<div style=\"font-family:system-ui,Segoe UI,Arial; line-height:1.45; max-width:980px\">\n",
        "  <div><b>Links/IDs (comma-separated)</b></div>\n",
        "  <textarea id=\"links\" rows=\"3\" style=\"width:100%\"> </textarea>\n",
        "\n",
        "  <div style=\"margin-top:8px\"><b>Labels (optional, comma-separated)</b></div>\n",
        "  <input id=\"labels\" style=\"width:100%\" placeholder=\"e.g., Intro, Result, Diagram\">\n",
        "\n",
        "  <div style=\"margin-top:8px\"><b>Image width (px)</b></div>\n",
        "  <input id=\"w\" type=\"number\" value=\"600\" style=\"width:120px\">\n",
        "\n",
        "  <div style=\"margin-top:10px\">\n",
        "    <button onclick=\"(async () => {\n",
        "      const links = document.getElementById('links').value;\n",
        "      const labels = document.getElementById('labels').value;\n",
        "      const w = parseInt(document.getElementById('w').value || '600');\n",
        "      const r = await google.colab.kernel.invokeFunction('build_table_cb', [links, labels, w], {});\n",
        "      const txt = r['data']['text/plain'] || '';\n",
        "      const iframe = txt.substring(1, txt.length-1); // strip quotes from repr\n",
        "      document.getElementById('out').value = iframe;\n",
        "      document.getElementById('preview').innerHTML = iframe;\n",
        "    })()\" style=\"padding:6px 12px\">Generate</button>\n",
        "  </div>\n",
        "\n",
        "  <div style=\"margin-top:10px\"><b>Paste this in a Text cell once</b></div>\n",
        "  <textarea id=\"out\" rows=\"2\" style=\"width:100%; font-family:monospace\"></textarea>\n",
        "\n",
        "  <div style=\"margin-top:14px\"><b>Live preview</b></div>\n",
        "  <div id=\"preview\" style=\"border:1px solid #ddd; padding:6px\"></div>\n",
        "</div>\n",
        "\"\"\"))\n",
        "\n"
      ],
      "metadata": {
        "colab": {
          "base_uri": "https://localhost:8080/",
          "height": 354
        },
        "id": "Rjd_uUMFtx7P",
        "outputId": "83d355e3-0a54-43a2-84b7-7ac184ec6f08"
      },
      "execution_count": null,
      "outputs": [
        {
          "output_type": "display_data",
          "data": {
            "text/plain": [
              "<IPython.core.display.HTML object>"
            ],
            "text/html": [
              "\n",
              "<div style=\"font-family:system-ui,Segoe UI,Arial; line-height:1.45; max-width:980px\">\n",
              "  <div><b>Links/IDs (comma-separated)</b></div>\n",
              "  <textarea id=\"links\" rows=\"3\" style=\"width:100%\"> </textarea>\n",
              "\n",
              "  <div style=\"margin-top:8px\"><b>Labels (optional, comma-separated)</b></div>\n",
              "  <input id=\"labels\" style=\"width:100%\" placeholder=\"e.g., Intro, Result, Diagram\">\n",
              "\n",
              "  <div style=\"margin-top:8px\"><b>Image width (px)</b></div>\n",
              "  <input id=\"w\" type=\"number\" value=\"600\" style=\"width:120px\">\n",
              "\n",
              "  <div style=\"margin-top:10px\">\n",
              "    <button onclick=\"(async () => {\n",
              "      const links = document.getElementById('links').value;\n",
              "      const labels = document.getElementById('labels').value;\n",
              "      const w = parseInt(document.getElementById('w').value || '600');\n",
              "      const r = await google.colab.kernel.invokeFunction('build_table_cb', [links, labels, w], {});\n",
              "      const txt = r['data']['text/plain'] || '';\n",
              "      const iframe = txt.substring(1, txt.length-1); // strip quotes from repr\n",
              "      document.getElementById('out').value = iframe;\n",
              "      document.getElementById('preview').innerHTML = iframe;\n",
              "    })()\" style=\"padding:6px 12px\">Generate</button>\n",
              "  </div>\n",
              "\n",
              "  <div style=\"margin-top:10px\"><b>Paste this in a Text cell once</b></div>\n",
              "  <textarea id=\"out\" rows=\"2\" style=\"width:100%; font-family:monospace\"></textarea>\n",
              "\n",
              "  <div style=\"margin-top:14px\"><b>Live preview</b></div>\n",
              "  <div id=\"preview\" style=\"border:1px solid #ddd; padding:6px\"></div>\n",
              "</div>\n"
            ]
          },
          "metadata": {}
        }
      ]
    }
  ]
}